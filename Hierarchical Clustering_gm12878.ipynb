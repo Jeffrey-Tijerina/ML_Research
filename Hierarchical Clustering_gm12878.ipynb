{
 "cells": [
  {
   "cell_type": "code",
   "execution_count": null,
   "id": "removable-charger",
   "metadata": {},
   "outputs": [],
   "source": [
    "import plotly.figure_factory as ff\n",
    "import numpy as np\n",
    "from scipy.cluster.hierarchy import dendrogram, linkage"
   ]
  },
  {
   "cell_type": "code",
   "execution_count": null,
   "id": "shaped-spine",
   "metadata": {},
   "outputs": [],
   "source": [
    "import pandas as pd\n",
    "\n",
    "def import_data():\n",
    "    sample_data_UNC = 'C:/Users/PKchu/Desktop/UHD/SPRING 2021/Senior Project/Soibam/gm12878.csv'\n",
    "    sample_data_list = pd.read_csv(sample_data_UNC)\n",
    "    \n",
    "    feature_rows = sample_data_list.Boundary\n",
    "    sample_data_list.pop(\"Boundary\") #get rid of boundary labels/col\n",
    "    \n",
    "    sample_data = np.array(sample_data_list, dtype = object) #convert data types to objects for manipulation\n",
    "    \n",
    "    feature_rows = np.array(feature_rows, dtype = object)\n",
    "    feature_columns = np.array(['CTCF', 'DNase', 'H2A', 'H3K27ac', 'H3K27me3', 'H3K36me3', 'H3K4me1', 'H3K4me2', 'H3K4me3', 'H3K79me2', 'H3K9ac', 'H3K9me3', 'H4K20me1'], dtype = object)\n",
    "\n",
    "    \n",
    "    return sample_data, feature_rows, feature_columns, sample_data_list #data[0] = numpy.ndarray, data[3] = pandas df"
   ]
  },
  {
   "cell_type": "code",
   "execution_count": null,
   "id": "annual-yahoo",
   "metadata": {},
   "outputs": [],
   "source": [
    "data = import_data()"
   ]
  },
  {
   "cell_type": "markdown",
   "id": "fresh-sullivan",
   "metadata": {},
   "source": [
    "# Stat Data"
   ]
  },
  {
   "cell_type": "code",
   "execution_count": null,
   "id": "rolled-mixer",
   "metadata": {},
   "outputs": [],
   "source": [
    "data_pts = data[3] #df object for .describe()\n",
    "\n",
    "#data = np.array(data, dtype=np.float32)\n",
    "#col_names = np.dtype(data[2].names)\n",
    "#labels = col_names.dtype(col_names)\n",
    "\n",
    "statData = data_pts\n",
    "\n",
    "\n",
    "statData.describe(percentiles=None,\n",
    "                  include = 'all'\n",
    "                 )"
   ]
  },
  {
   "cell_type": "markdown",
   "id": "accomplished-shade",
   "metadata": {},
   "source": [
    "# Create Dendrogram"
   ]
  },
  {
   "cell_type": "code",
   "execution_count": null,
   "id": "split-spirituality",
   "metadata": {},
   "outputs": [],
   "source": [
    "#data_pts = data_pts.transpose() #basically... matrix of \"cols\" ((13)rows:(9000)cols)\n",
    "\n",
    "dendro_plt = ff.create_dendrogram(data_pts, \n",
    "                           #orientation='left',\n",
    "                           linkagefun=lambda x: linkage(data_pts, 'average', metric='euclidean'),\n",
    "                           #distfun='euclidean', \n",
    "                           color_threshold=200)\n",
    "dendro_plt.update_layout(width=1000, height=800)\n",
    "dendro_plt.show()"
   ]
  },
  {
   "cell_type": "markdown",
   "id": "informational-brunswick",
   "metadata": {},
   "source": [
    "# Unordered Heatmap"
   ]
  },
  {
   "cell_type": "code",
   "execution_count": null,
   "id": "secret-dayton",
   "metadata": {},
   "outputs": [],
   "source": [
    "####orig seaborn clustermap\n",
    "#labels = np.random.random_integers(0,10, size=len(data[0]))\n",
    "#lut = dict(zip(set(labels), sns.hls_palette(len(set(labels)), l=0.5, s=0.8)))\n",
    "\n",
    "#sample_cluster_map = sns.clustermap(data[0], cmap = 'vlag', \n",
    "#                                   figsize=(18, 20), #linewidths = 0.001,\n",
    "#                                   metric = 'euclidean', row_cluster = True, \n",
    "#                                   row_colors = row_colors,\n",
    "#                                   dendrogram_ratio=(.5, .5),\n",
    "#                                   cbar_pos=(1, 0.1, .03, .6))\n",
    "#‘chebyshev’, ‘cityblock’, ‘correlation’, ‘cosine’,‘euclidean’, ‘hamming’, ‘jaccard’,‘kulsinski’, ....\n",
    "#sample_cluster_map.ax_col_dendrogram.remove()\n",
    "\n",
    "import plotly.express as px\n"
   ]
  },
  {
   "cell_type": "code",
   "execution_count": null,
   "id": "prospective-basis",
   "metadata": {},
   "outputs": [],
   "source": [
    "dataL = data[2].tolist()\n",
    "xList = dataL\n",
    "\n",
    "\n",
    "uo_hm_fig = px.imshow(data[0],\n",
    "                labels=dict(x=\"Features\", y=\"Samples\", color=\"Expression\"),\n",
    "                #template = 'plotly',\n",
    "                color_continuous_scale='RdBu_r', #RdBu,\n",
    "                x=xList \n",
    "                #y=]\n",
    "               )\n",
    "\n",
    "uo_hm_fig.show()"
   ]
  },
  {
   "cell_type": "markdown",
   "id": "nominated-reunion",
   "metadata": {},
   "source": [
    "# Ordered Clustermap"
   ]
  },
  {
   "cell_type": "code",
   "execution_count": null,
   "id": "unusual-dressing",
   "metadata": {},
   "outputs": [],
   "source": [
    "import pandas as pd\n",
    "import seaborn as sns\n",
    "\n",
    "import scipy\n",
    "from scipy.spatial import distance\n",
    "from scipy.cluster import hierarchy\n",
    "\n",
    "dataL = data[0].tolist()"
   ]
  },
  {
   "cell_type": "code",
   "execution_count": null,
   "id": "governing-furniture",
   "metadata": {},
   "outputs": [],
   "source": [
    "sample_cluster_map = sns.clustermap(dataL, cmap = 'RdBu_r', #plasma, RdBu\n",
    "                                   figsize=(18, 20), #linewidths = 0.001,\n",
    "                                   metric = 'euclidean', row_cluster = True, \n",
    "                                   #row_colors = row_colors,\n",
    "                                   dendrogram_ratio=(.5, .5),\n",
    "                                   cbar_pos=(1, 0.015, .03, .5),\n",
    "                                   #z_score=1 standardize z-score - 0(rows) 1(cols)\n",
    "                                    #subtract the minimum and divide each by its maximum\n",
    "                                   )\n",
    "#‘chebyshev’, ‘cityblock’, ‘correlation’, ‘cosine’,‘euclidean’, ‘hamming’, ‘jaccard’,‘kulsinski’, ....\n",
    "sample_cluster_map.ax_heatmap.set_xlabel('Features')\n",
    "sample_cluster_map.ax_heatmap.set_ylabel('Samples')\n",
    "sample_cluster_map.ax_col_dendrogram.remove()\n",
    "\n",
    "#plt.savefig(out_pdf)\n",
    "###   access linkage matricies for rows/columns   ###\n",
    "#clustmap = sns.clustermap(df, metric=\"correlation\")\n",
    "#clustmap.dendrogram_col.linkage # linkage matrix for columns\n",
    "#clustmap.dendrogram_row.linkage # linkage matrix for rows\n"
   ]
  },
  {
   "cell_type": "markdown",
   "id": "infectious-greece",
   "metadata": {},
   "source": [
    "# Dendrogram + Correlation Map"
   ]
  },
  {
   "cell_type": "code",
   "execution_count": null,
   "id": "senior-surface",
   "metadata": {},
   "outputs": [],
   "source": [
    "import plotly.graph_objects as go\n",
    "import plotly.figure_factory as ff\n",
    "\n",
    "import numpy as np\n",
    "from scipy.spatial.distance import pdist, squareform\n",
    "\n",
    "\n",
    "# get data\n",
    "data = np.genfromtxt('C:/Users/PKchu/Desktop/UHD/SPRING 2021/Senior Project/Soibam/gm12878.csv',\n",
    "                     names=True,usecols=tuple(range(0,13)),dtype=float, delimiter=\",\")\n",
    "\n",
    "#dendro_plt = ff.create_dendrogram(data_pts, \n",
    "#                           #orientation='left',\n",
    "#                           linkagefun=lambda x: linkage(data_pts, 'average', metric='euclidean'),\n",
    "#                           #distfun='euclidean', \n",
    "#                           color_threshold=200)\n",
    "#dendro_plt.update_layout(width=1000, height=800)\n",
    "#dendro_plt.show()"
   ]
  },
  {
   "cell_type": "code",
   "execution_count": null,
   "id": "rental-hello",
   "metadata": {},
   "outputs": [],
   "source": [
    "data_array = data.view((np.float, len(data.dtype.names)))\n",
    "\n",
    "data_array"
   ]
  },
  {
   "cell_type": "code",
   "execution_count": null,
   "id": "polish-enterprise",
   "metadata": {},
   "outputs": [],
   "source": [
    "data_array = data_array.transpose()\n",
    "\n",
    "#data_array.shape\n",
    "data_array"
   ]
  },
  {
   "cell_type": "code",
   "execution_count": null,
   "id": "expressed-willow",
   "metadata": {},
   "outputs": [],
   "source": [
    "labels = data.dtype.names\n",
    "\n",
    "# Initialize figure by creating upper dendrogram\n",
    "dendro_plt = ff.create_dendrogram(data_array, orientation='bottom', labels=labels)\n",
    "\n",
    "dendro_plt.show()"
   ]
  },
  {
   "cell_type": "code",
   "execution_count": null,
   "id": "collected-coral",
   "metadata": {},
   "outputs": [],
   "source": [
    "\n",
    "for i in range(len(dendro_plt['data'])):\n",
    "    dendro_plt['data'][i]['yaxis'] = 'y2'\n",
    "\n",
    "# Create Side Dendrogram\n",
    "dendro_side = ff.create_dendrogram(data_array, orientation='right')\n",
    "for i in range(len(dendro_side['data'])):\n",
    "    dendro_side['data'][i]['xaxis'] = 'x2'\n",
    "\n",
    "# Add Side Dendrogram Data to Figure\n",
    "for data in dendro_side['data']:\n",
    "    dendro_plt.add_trace(data)\n",
    "\n",
    "# Create Heatmap\n",
    "dendro_leaves = dendro_side['layout']['yaxis']['ticktext']\n",
    "dendro_leaves = list(map(int, dendro_leaves))\n",
    "data_dist = pdist(data_array)\n",
    "heat_data = squareform(data_dist)\n",
    "heat_data = heat_data[dendro_leaves,:]\n",
    "heat_data = heat_data[:,dendro_leaves]\n",
    "\n",
    "heatmap = [\n",
    "    go.Heatmap(\n",
    "        x = dendro_leaves,\n",
    "        y = dendro_leaves,\n",
    "        z = heat_data,\n",
    "        colorscale = 'Blues'\n",
    "    )\n",
    "]\n",
    "\n",
    "heatmap[0]['x'] = dendro_plt['layout']['xaxis']['tickvals']\n",
    "heatmap[0]['y'] = dendro_side['layout']['yaxis']['tickvals']\n",
    "\n",
    "# Add Heatmap Data to Figure\n",
    "for data in heatmap:\n",
    "    dendro_plt.add_trace(data)\n",
    "\n",
    "# Edit Layout\n",
    "dendro_plt.update_layout({'width':800, 'height':800,\n",
    "                         'showlegend':False, 'hovermode': 'closest',\n",
    "                         })\n",
    "# Edit xaxis\n",
    "dendro_plt.update_layout(xaxis={'domain': [.15, 1],\n",
    "                                  'mirror': False,\n",
    "                                  'showgrid': False,\n",
    "                                  'showline': False,\n",
    "                                  'zeroline': False,\n",
    "                                  'ticks':\"\"})\n",
    "# Edit xaxis2\n",
    "dendro_plt.update_layout(xaxis2={'domain': [0, .15],\n",
    "                                   'mirror': False,\n",
    "                                   'showgrid': False,\n",
    "                                   'showline': False,\n",
    "                                   'zeroline': False,\n",
    "                                   'showticklabels': False,\n",
    "                                   'ticks':\"\"})\n",
    "\n",
    "# Edit yaxis\n",
    "dendro_plt.update_layout(yaxis={'domain': [0, .85],\n",
    "                                  'mirror': False,\n",
    "                                  'showgrid': False,\n",
    "                                  'showline': False,\n",
    "                                  'zeroline': False,\n",
    "                                  'showticklabels': False,\n",
    "                                  'ticks': \"\"\n",
    "                        })\n",
    "# Edit yaxis2\n",
    "dendro_plt.update_layout(yaxis2={'domain':[.825, .975],\n",
    "                                   'mirror': False,\n",
    "                                   'showgrid': False,\n",
    "                                   'showline': False,\n",
    "                                   'zeroline': False,\n",
    "                                   'showticklabels': False,\n",
    "                                   'ticks':\"\"})\n",
    "\n",
    "# Plot!\n",
    "dendro_plt.show()"
   ]
  },
  {
   "cell_type": "markdown",
   "id": "computational-printer",
   "metadata": {},
   "source": [
    "# Test Data - Proof of Concept"
   ]
  },
  {
   "cell_type": "code",
   "execution_count": null,
   "id": "aerial-stock",
   "metadata": {},
   "outputs": [],
   "source": [
    "import plotly.graph_objects as go\n",
    "import plotly.figure_factory as ff\n",
    "\n",
    "import numpy as np\n",
    "from scipy.spatial.distance import pdist, squareform\n",
    "\n",
    "\n",
    "# get data\n",
    "data = np.genfromtxt('C:/Users/PKchu/Desktop/UHD/SPRING 2021/Senior Project/Soibam/tab_delimited_gm12878_sample.csv',\n",
    "                     names=True,usecols=tuple(range(1,13)),dtype=float, delimiter=\",\")\n",
    "\n"
   ]
  },
  {
   "cell_type": "markdown",
   "id": "loved-thong",
   "metadata": {},
   "source": [
    "# Unordered Heatmap"
   ]
  },
  {
   "cell_type": "code",
   "execution_count": null,
   "id": "removed-hearts",
   "metadata": {},
   "outputs": [],
   "source": [
    "import plotly.express as px\n",
    "\n",
    "dataL = data.tolist()\n",
    "\n",
    "labelsD = data.dtype.names\n",
    "xList = list(labelsD)\n",
    "\n",
    "#xList = np.array(labelsD, dtype=object)\n",
    "\n"
   ]
  },
  {
   "cell_type": "code",
   "execution_count": null,
   "id": "resident-smile",
   "metadata": {},
   "outputs": [],
   "source": [
    "uo_hm_fig = px.imshow(dataL,\n",
    "                labels=dict(x=\"Features\", y=\"Samples\", color=\"Expression\"),\n",
    "                #template = 'plotly',\n",
    "                color_continuous_scale='RdBu_r', #RdBu\n",
    "                x=xList \n",
    "                #y=]\n",
    "               )\n",
    "#cbar.minorticks_on()\n",
    "\n",
    "\n",
    "uo_hm_fig.show()"
   ]
  },
  {
   "cell_type": "markdown",
   "id": "acknowledged-drive",
   "metadata": {},
   "source": [
    "# Ordered Clustermap"
   ]
  },
  {
   "cell_type": "code",
   "execution_count": null,
   "id": "outstanding-throat",
   "metadata": {},
   "outputs": [],
   "source": [
    "import pandas as pd\n",
    "import seaborn as sns\n",
    "\n",
    "import scipy\n",
    "from scipy.spatial import distance\n",
    "from scipy.cluster import hierarchy\n",
    "\n",
    "xList = pd.DataFrame(labelsD)\n",
    "xList = xList.T\n"
   ]
  },
  {
   "cell_type": "code",
   "execution_count": null,
   "id": "becoming-ukraine",
   "metadata": {},
   "outputs": [],
   "source": [
    "sample_cluster_map = sns.clustermap(dataL, cmap = 'RdBu_r', #plasma, RdBu\n",
    "                                   figsize=(18, 20), #linewidths = 0.001,\n",
    "                                   metric = 'euclidean', row_cluster = True, \n",
    "                                   #row_colors = row_colors,\n",
    "                                   dendrogram_ratio=(.5, .5),\n",
    "                                   cbar_pos=(1, 0.015, .03, .5),\n",
    "                                   #z_score=1 standardize z-score - 0(rows) 1(cols)\n",
    "                                    #subtract the minimum and divide each by its maximum\n",
    "                                   )\n",
    "#‘chebyshev’, ‘cityblock’, ‘correlation’, ‘cosine’,‘euclidean’, ‘hamming’, ‘jaccard’,‘kulsinski’, ....\n",
    "sample_cluster_map.ax_heatmap.set_xlabel('Features')\n",
    "sample_cluster_map.ax_heatmap.set_ylabel('Samples')\n",
    "sample_cluster_map.ax_col_dendrogram.remove()\n",
    "\n",
    "#plt.savefig(out_pdf)\n",
    "###   access linkage matricies for rows/columns   ###\n",
    "#clustmap = sns.clustermap(df, metric=\"correlation\")\n",
    "#clustmap.dendrogram_col.linkage # linkage matrix for columns\n",
    "#clustmap.dendrogram_row.linkage # linkage matrix for rows\n"
   ]
  },
  {
   "cell_type": "markdown",
   "id": "prescription-silence",
   "metadata": {},
   "source": [
    "# Histogram of Expression Values"
   ]
  },
  {
   "cell_type": "code",
   "execution_count": null,
   "id": "interested-community",
   "metadata": {},
   "outputs": [],
   "source": [
    "from plotly.subplots import make_subplots\n",
    "from skimage import data\n",
    "\n",
    "img = data.chelsea()\n",
    "img.shape"
   ]
  },
  {
   "cell_type": "code",
   "execution_count": null,
   "id": "brown-kitchen",
   "metadata": {},
   "outputs": [],
   "source": [
    "fig = make_subplots(1, 2)\n",
    "# We use go.Image because subplots require traces, whereas px functions return a figure\n",
    "fig.add_trace(go.Image(z=img), 1, 1)\n",
    "for channel, color in enumerate(['red', 'green', 'blue']):\n",
    "    fig.add_trace(go.Histogram(x=img[..., channel].ravel(), opacity=0.5,\n",
    "                               marker_color=color, name='%s channel' %color), 1, 2)\n",
    "fig.update_layout(height=400)\n",
    "fig.show()"
   ]
  },
  {
   "cell_type": "markdown",
   "id": "forced-beginning",
   "metadata": {},
   "source": [
    "# Build Correlation Map"
   ]
  },
  {
   "cell_type": "code",
   "execution_count": null,
   "id": "lesser-investment",
   "metadata": {},
   "outputs": [],
   "source": [
    "import plotly.graph_objects as go\n",
    "import plotly.figure_factory as ff\n",
    "\n",
    "import numpy as np\n",
    "from scipy.spatial.distance import pdist, squareform\n",
    "\n",
    "# get data\n",
    "data = np.genfromtxt('C:/Users/PKchu/Desktop/UHD/SPRING 2021/Senior Project/Soibam/test_data_sample.csv',\n",
    "                     names=True,usecols=tuple(range(1,13)),dtype=float, delimiter=\",\")\n"
   ]
  },
  {
   "cell_type": "code",
   "execution_count": null,
   "id": "communist-bailey",
   "metadata": {},
   "outputs": [],
   "source": [
    "data_array = data.view((np.float, len(data.dtype.names)))\n",
    "data_array = data_array.transpose()\n",
    "labels = data.dtype.names\n",
    "\n",
    "# Initialize figure by creating upper dendrogram\n",
    "fig = ff.create_dendrogram(data_array, orientation='bottom', labels=labels)\n",
    "\n",
    "#Position upper dendrogram\n",
    "for i in range(len(fig['data'])):\n",
    "    fig['data'][i]['yaxis'] = 'y2'\n"
   ]
  },
  {
   "cell_type": "code",
   "execution_count": null,
   "id": "banned-integration",
   "metadata": {},
   "outputs": [],
   "source": [
    "fig"
   ]
  },
  {
   "cell_type": "code",
   "execution_count": null,
   "id": "molecular-lounge",
   "metadata": {},
   "outputs": [],
   "source": [
    "# Create Side Dendrogram\n",
    "dendro_side = ff.create_dendrogram(data_array, orientation='right')\n",
    "for i in range(len(dendro_side['data'])):\n",
    "    dendro_side['data'][i]['xaxis'] = 'x2'\n",
    "\n",
    "# Add Side Dendrogram Data to Figure\n",
    "for data in dendro_side['data']:\n",
    "    fig.add_trace(data)\n",
    "\n",
    "# Create Heatmap\n",
    "dendro_leaves = dendro_side['layout']['yaxis']['ticktext']\n",
    "dendro_leaves = list(map(int, dendro_leaves))\n",
    "data_dist = pdist(data_array)\n",
    "heat_data = squareform(data_dist)\n",
    "heat_data = heat_data[dendro_leaves,:]\n",
    "heat_data = heat_data[:,dendro_leaves]\n",
    "\n",
    "heatmap = [\n",
    "    go.Heatmap(\n",
    "        x = dendro_leaves,\n",
    "        y = dendro_leaves,\n",
    "        z = heat_data,\n",
    "        colorscale = 'rdylbu' \n",
    "        #rdbu, rdylbu, \n",
    "        #balance, icefire, \n",
    "        #hot, jet, thermal, turbo\n",
    "    )\n",
    "]\n",
    "\n",
    "heatmap[0]['x'] = fig['layout']['xaxis']['tickvals']\n",
    "heatmap[0]['y'] = dendro_side['layout']['yaxis']['tickvals']\n",
    "\n",
    "#Layout/Formatting Stuff#\n",
    "###############################################################\n",
    "# Add Heatmap Data to Figure\n",
    "for data in heatmap:\n",
    "    fig.add_trace(data)\n",
    "\n",
    "# Edit Layout\n",
    "fig.update_layout({'width':800, 'height':800,\n",
    "                         'showlegend':False, 'hovermode': 'closest',\n",
    "                         })\n",
    "# Edit xaxis\n",
    "fig.update_layout(xaxis={'domain': [.15, 1],\n",
    "                                  'mirror': False,\n",
    "                                  'showgrid': False,\n",
    "                                  'showline': False,\n",
    "                                  'zeroline': False,\n",
    "                                  'ticks':\"\"})\n",
    "# Edit xaxis2\n",
    "fig.update_layout(xaxis2={'domain': [0, .15],\n",
    "                                   'mirror': False,\n",
    "                                   'showgrid': False,\n",
    "                                   'showline': False,\n",
    "                                   'zeroline': False,\n",
    "                                   'showticklabels': False,\n",
    "                                   'ticks':\"\"})\n",
    "\n",
    "# Edit yaxis\n",
    "fig.update_layout(yaxis={'domain': [0, .825],\n",
    "                                  'mirror': False,\n",
    "                                  'showgrid': False,\n",
    "                                  'showline': False,\n",
    "                                  'zeroline': False,\n",
    "                                  'showticklabels': False,\n",
    "                                  'ticks': \"\"\n",
    "                        })\n",
    "# Edit yaxis2\n",
    "fig.update_layout(yaxis2={'domain':[.825, .975],\n",
    "                                   'mirror': False,\n",
    "                                   'showgrid': False,\n",
    "                                   'showline': False,\n",
    "                                   'zeroline': False,\n",
    "                                   'showticklabels': False,\n",
    "                                   'ticks':\"\"})\n",
    "\n",
    "# Plot!\n",
    "fig.show()"
   ]
  },
  {
   "cell_type": "code",
   "execution_count": null,
   "id": "appropriate-simple",
   "metadata": {},
   "outputs": [],
   "source": []
  },
  {
   "cell_type": "code",
   "execution_count": null,
   "id": "generic-marking",
   "metadata": {},
   "outputs": [],
   "source": []
  }
 ],
 "metadata": {
  "jupytext": {
   "notebook_metadata_filter": "all"
  },
  "kernelspec": {
   "display_name": "Python 3",
   "language": "python",
   "name": "python3"
  },
  "language_info": {
   "codemirror_mode": {
    "name": "ipython",
    "version": 3
   },
   "file_extension": ".py",
   "mimetype": "text/x-python",
   "name": "python",
   "nbconvert_exporter": "python",
   "pygments_lexer": "ipython3",
   "version": "3.7.9"
  },
  "plotly": {
   "description": "How to make a dendrogram in Python with Plotly.",
   "display_as": "scientific",
   "language": "python",
   "layout": "base",
   "name": "Dendrograms",
   "order": 6,
   "page_type": "u-guide",
   "permalink": "python/dendrogram/",
   "thumbnail": "thumbnail/dendrogram.jpg"
  }
 },
 "nbformat": 4,
 "nbformat_minor": 5
}
